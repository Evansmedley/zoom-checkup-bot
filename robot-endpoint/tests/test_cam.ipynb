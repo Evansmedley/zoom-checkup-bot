{
 "cells": [
  {
   "cell_type": "code",
   "execution_count": null,
   "metadata": {},
   "outputs": [],
   "source": [
    "import cv2\n",
    "import ipywidgets.widgets as widgets\n",
    "import threading\n",
    "import time\n",
    "\n",
    "import enum\n",
    "    \n",
    "image = cv2.VideoCapture(0, cv2.CAP_GSTREAMER)\n",
    "\n",
    "width = 600\n",
    "height = 500\n",
    "\n",
    "i = 0\n",
    "try:\n",
    "    while True:\n",
    "        ret, frame = image.read()\n",
    "\n",
    "        # Check if the frame is captured successfully and is not empty\n",
    "        if ret and frame is not None:\n",
    "            cv2.imshow(\"img4.jpg\", frame)\n",
    "            cv2.imshow(\"Camera Stream\", frame)\n",
    "\n",
    "        if cv2.waitKey(1) & 0xFF == ord('q'):\n",
    "            break  # wait until a key is pressed\n",
    "\n",
    "        i += 1\n",
    "except KeyboardInterrupt:\n",
    "    print(\"Program closed!\")\n",
    "    pass\n",
    "\n",
    "image.release()\n",
    "cv2.destroyAllWindows()"
   ]
  },
  {
   "cell_type": "code",
   "execution_count": null,
   "metadata": {},
   "outputs": [],
   "source": []
  },
  {
   "cell_type": "code",
   "execution_count": null,
   "metadata": {},
   "outputs": [],
   "source": []
  },
  {
   "cell_type": "code",
   "execution_count": null,
   "metadata": {},
   "outputs": [],
   "source": []
  },
  {
   "cell_type": "code",
   "execution_count": null,
   "metadata": {},
   "outputs": [],
   "source": []
  }
 ],
 "metadata": {
  "kernelspec": {
   "display_name": "Python 3",
   "language": "python",
   "name": "python3"
  },
  "language_info": {
   "codemirror_mode": {
    "name": "ipython",
    "version": 3
   },
   "file_extension": ".py",
   "mimetype": "text/x-python",
   "name": "python",
   "nbconvert_exporter": "python",
   "pygments_lexer": "ipython3",
   "version": "3.8.10"
  }
 },
 "nbformat": 4,
 "nbformat_minor": 4
}
