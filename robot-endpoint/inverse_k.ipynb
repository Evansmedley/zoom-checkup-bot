{
 "cells": [
  {
   "cell_type": "code",
   "execution_count": null,
   "metadata": {},
   "outputs": [],
   "source": [
    "from numpy import *\n",
    "\n",
    "def DofBot():\n",
    "    l0 = 0.061\n",
    "    l1 = 0.0435\n",
    "    l2 = 0.08285\n",
    "    l3 = 0.08285\n",
    "    l4 = 0.07385\n",
    "    l5 = 0.05457\n",
    "    "
   ]
  },
  {
   "cell_type": "code",
   "execution_count": null,
   "metadata": {},
   "outputs": [],
   "source": []
  }
 ],
 "metadata": {
  "language_info": {
   "name": "python"
  }
 },
 "nbformat": 4,
 "nbformat_minor": 2
}
